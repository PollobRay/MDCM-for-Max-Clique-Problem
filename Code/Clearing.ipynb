{
  "cells": [
    {
      "cell_type": "markdown",
      "metadata": {
        "id": "YBbZnG4ZD6wy"
      },
      "source": [
        "# **Max Clique problem using Clearning Method.**\n",
        "As per Research paper <br>\n",
        "25 August 2024 <br>\n",
        "copyright: ©Pollob Ray(pollob.cray@gmail.com)"
      ]
    },
    {
      "cell_type": "markdown",
      "metadata": {
        "id": "W43hT29hum6v"
      },
      "source": [
        "**4. Modification**\n",
        "* Rank Based\n",
        "* Clearing Crowding"
      ]
    },
    {
      "cell_type": "markdown",
      "metadata": {
        "id": "RbhP4pLNE-AS"
      },
      "source": [
        "**Import Statements**"
      ]
    },
    {
      "cell_type": "code",
      "execution_count": null,
      "metadata": {
        "id": "NL8uAuLFFD-7"
      },
      "outputs": [],
      "source": [
        "import random\n",
        "import numpy as np\n",
        "import re # to extract value from a line"
      ]
    },
    {
      "cell_type": "markdown",
      "metadata": {
        "id": "LLRtZy9JFMQb"
      },
      "source": [
        "**Tuning Parameters**"
      ]
    },
    {
      "cell_type": "code",
      "execution_count": null,
      "metadata": {
        "id": "FolnMAgCFQ0C"
      },
      "outputs": [],
      "source": [
        "#For Genetic Problem\n",
        "chromosome_length = None #value will be number of node\n",
        "population_size = 60\n",
        "generations = 1000  #number of iteration\n",
        "threshold = 0.35\n",
        "crossover_rate = 0.8\n",
        "mutation_rate = 0.50"
      ]
    },
    {
      "cell_type": "markdown",
      "metadata": {
        "id": "oJY0xgXAFogb"
      },
      "source": [
        "**Read File**"
      ]
    },
    {
      "cell_type": "code",
      "execution_count": null,
      "metadata": {
        "id": "VspcOkQfFska"
      },
      "outputs": [],
      "source": [
        "my_file = open('/content/sample_data/7.clq', 'r') #load file\n",
        "\n",
        "clique_line = my_file.readline()      # read first line\n",
        "node_edge_line = my_file.readline()   # read second line\n",
        "\n",
        "clique_size = int( re.findall(r'\\b\\d+\\b', clique_line)[0]); # extract first number as max clique size\n",
        "node = int( re.findall(r'\\b\\d+\\b', node_edge_line)[0]);     # extract first number as number of node"
      ]
    },
    {
      "cell_type": "markdown",
      "metadata": {
        "id": "ypbnzyehYP1K"
      },
      "source": [
        "**Set up Global Results**"
      ]
    },
    {
      "cell_type": "code",
      "execution_count": null,
      "metadata": {
        "id": "JAooOrfxYh-R"
      },
      "outputs": [],
      "source": [
        "global_max_found = 0\n",
        "global_results_max = list()\n",
        "global_results_less = list()"
      ]
    },
    {
      "cell_type": "markdown",
      "metadata": {
        "id": "gUwLc2iK7j4F"
      },
      "source": [
        "**Set up Global min fitness Holders**"
      ]
    },
    {
      "cell_type": "code",
      "execution_count": null,
      "metadata": {
        "id": "CXo5Uh-d73uh"
      },
      "outputs": [],
      "source": [
        "global_min_fitness_1 = 99999\n",
        "global_min_fitness_2 = 99999\n",
        "\n",
        "global_min_fitness_1_index = -1\n",
        "global_min_fitness_2_index = -1"
      ]
    },
    {
      "cell_type": "markdown",
      "metadata": {
        "id": "J2HTFMdmHFGr"
      },
      "source": [
        "**Initialization & creation adjacency matrix for graph**"
      ]
    },
    {
      "cell_type": "code",
      "execution_count": null,
      "metadata": {
        "id": "XB2aC6CvHQvk"
      },
      "outputs": [],
      "source": [
        "#now Define value of Chromosome size\n",
        "chromosome_length = node #chromosome length is equal to number of nodes in the graph\n",
        "\n",
        "adj_matrix = [[0] * node for _ in range(node)] #create 2D matrix and initialize it with zeros\n",
        "\n",
        "while True:  #initilize adjacency matrix\n",
        "        next_line = my_file.readline().strip()\n",
        "\n",
        "        if not next_line:\n",
        "            break  # Exit loop if no more lines are left\n",
        "\n",
        "        u = int(re.findall(r'\\b\\d+\\b', next_line)[0]) -1  #1 less numbered\n",
        "        v = int(re.findall(r'\\b\\d+\\b', next_line)[1]) -1  #1 less numbered\n",
        "\n",
        "        adj_matrix[u][v] = 1  # 1 indicates there is edge\n",
        "        adj_matrix[v][u] = 1  # 1 indicates there is edge"
      ]
    },
    {
      "cell_type": "markdown",
      "metadata": {
        "id": "tyT4RUKqIslk"
      },
      "source": [
        "# **Genetic Algorithm Steps**"
      ]
    },
    {
      "cell_type": "markdown",
      "metadata": {
        "id": "l0syji9JI4u9"
      },
      "source": [
        "**Chomosome Generation**"
      ]
    },
    {
      "cell_type": "code",
      "execution_count": null,
      "metadata": {
        "id": "Nnbpp_AtJB98"
      },
      "outputs": [],
      "source": [
        "def chromosome_generation(length):\n",
        "  #chromosome = [random.choice([0, 1]) for _ in range(length)] #when no threshold\n",
        "  chromosome = list()\n",
        "\n",
        "  for i in range(length):\n",
        "        random_number = random.random()  # Generate a random float between 0 and 1\n",
        "        if random_number >= threshold:\n",
        "            chromosome.append(1)\n",
        "        else:\n",
        "            chromosome.append(0)\n",
        "\n",
        "  return chromosome"
      ]
    },
    {
      "cell_type": "markdown",
      "metadata": {
        "id": "TWtm7ijmJFQl"
      },
      "source": [
        "**1. Population Generation**"
      ]
    },
    {
      "cell_type": "code",
      "execution_count": null,
      "metadata": {
        "id": "sFRzdFCzJI_9"
      },
      "outputs": [],
      "source": [
        "def population_generation(chromosome_length,population_size):\n",
        "  population = [chromosome_generation(chromosome_length) for _ in range(population_size)]\n",
        "  return population"
      ]
    },
    {
      "cell_type": "markdown",
      "metadata": {
        "id": "1nuH4LjYL5sU"
      },
      "source": [
        "**a node is connected to a graph or not check**"
      ]
    },
    {
      "cell_type": "code",
      "execution_count": null,
      "metadata": {
        "id": "wSQK2DZKMBAl"
      },
      "outputs": [],
      "source": [
        "def is_connected(u, nodes):\n",
        "    return all(adj_matrix[u][v] for v in nodes) #check there 'u' is connected to the all nodes or not\n",
        "\n",
        "# def is_connected(u, nodes):\n",
        "#   for v in nodes:\n",
        "#     if not adj_matrix[u][v]: #check there is edge exits or not\n",
        "#       return False\n",
        "#   return True"
      ]
    },
    {
      "cell_type": "markdown",
      "metadata": {
        "id": "g0uHkC_SMDx8"
      },
      "source": [
        "**Clique Finding from Graph**"
      ]
    },
    {
      "cell_type": "code",
      "execution_count": null,
      "metadata": {
        "id": "tQdkVC4RMLys"
      },
      "outputs": [],
      "source": [
        "def subset_clique_find(individual):\n",
        "  #clicue problem\n",
        "  #find clique size\n",
        "\n",
        "  ver = [i for i, x in enumerate(individual) if x == 1] #get vertices that perticipated in that chromosome\n",
        "  vertices = sorted(ver)\n",
        "\n",
        "  max_found = 0 #max clique size is found\n",
        "  results = list() # results contains only clique with max_found size\n",
        "\n",
        "  for i in range(len(vertices)):\n",
        "    u = vertices[i]\n",
        "    result = list()\n",
        "    result.append(u)\n",
        "\n",
        "    for j in range(i+1,len(vertices)): # start from i+1 to length-1\n",
        "      #Break the loop\n",
        "      if len(result) + (len(vertices) - j) < max_found: #if there is no chnace to make clique of larger size than already found\n",
        "        result.clear()\n",
        "        break\n",
        "\n",
        "      v = vertices[j]\n",
        "\n",
        "      if not is_connected(v,result):\n",
        "        continue\n",
        "      else:\n",
        "        result.append(v)\n",
        "\n",
        "    #Max clique found value update\n",
        "    if  len(result)>0:\n",
        "      if len(result) > max_found:\n",
        "        max_found = len(result)\n",
        "        results = [result]\n",
        "      elif len(result) == max_found:\n",
        "        if result not in results:\n",
        "          results.extend([result])\n",
        "  return results, max_found"
      ]
    },
    {
      "cell_type": "code",
      "execution_count": null,
      "metadata": {
        "id": "xzpJ4u9abX5G"
      },
      "outputs": [],
      "source": [
        "def subset_clique_find1(individual):\n",
        "  #clicue problem\n",
        "  #find clique size\n",
        "\n",
        "  ver = [i for i, x in enumerate(individual) if x == 1] #get vertices that perticipated in that chromosome\n",
        "  vertices = sorted(ver)\n",
        "\n",
        "  max_found = 0 #max clique size is found\n",
        "  results = [[]] # results contains only clique with max_found size\n",
        "  result = list() # result\n",
        "\n",
        "  for i in range(len(vertices)):\n",
        "    u = vertices[i]\n",
        "\n",
        "    if random.random()>= 0.80: #skip the node\n",
        "      continue\n",
        "\n",
        "    if len(result)==0:\n",
        "      result.append(u)\n",
        "      continue\n",
        "\n",
        "    if not is_connected(u,result):\n",
        "      continue\n",
        "    else:\n",
        "      result.append(u)\n",
        "\n",
        "\n",
        "  #Max clique found value update\n",
        "  if  len(result)>1:\n",
        "    max_found = len(result)\n",
        "    results = [result]\n",
        "\n",
        "  return results, max_found"
      ]
    },
    {
      "cell_type": "markdown",
      "metadata": {
        "id": "t8-h0vVhMdiV"
      },
      "source": [
        "**Fitness Value calculation**"
      ]
    },
    {
      "cell_type": "code",
      "execution_count": null,
      "metadata": {
        "id": "ujVx3QZhMl4_"
      },
      "outputs": [],
      "source": [
        "def fitness_calculation(individual):\n",
        "  # results = set()\n",
        "  # results = subset_clique_find(individual,results)\n",
        "  # sorted_solutions = sorted(results, key=len, reverse=True)\n",
        "  # if sorted_solutions:  # Check if sorted_solutions is not empty\n",
        "  #   return len(next(iter(sorted_solutions)))\n",
        "  # else:\n",
        "  #   return 0\n",
        "\n",
        "  global global_max_found\n",
        "  global global_results_less\n",
        "  global global_results_max\n",
        "\n",
        "  results, max_found = subset_clique_find(individual)\n",
        "\n",
        "  if max_found > global_max_found:\n",
        "    global_max_found = max_found\n",
        "    global_results_less = global_results_max\n",
        "    global_results_max = results\n",
        "\n",
        "  elif max_found == global_max_found:\n",
        "    for result in results:\n",
        "      if result not in global_results_max:\n",
        "        global_results_max.extend([result])\n",
        "\n",
        "  return max_found"
      ]
    },
    {
      "cell_type": "markdown",
      "metadata": {
        "id": "65n0U48YMyTm"
      },
      "source": [
        "**2. Parents Selection**"
      ]
    },
    {
      "cell_type": "code",
      "execution_count": null,
      "metadata": {
        "id": "12tLD9kmM1Qu"
      },
      "outputs": [],
      "source": [
        "# Rank Based Selection\n",
        "def rank_selection(probabilities):\n",
        "    r = random.random()\n",
        "    cumulative_sum = 0\n",
        "    for i, p in enumerate(probabilities):\n",
        "        cumulative_sum += p\n",
        "        if r <= cumulative_sum:\n",
        "            return i\n",
        "\n",
        "def parents_selection_rank_based(population):\n",
        "  #define rank based selection\n",
        "  n = population_size\n",
        "  matrix = [[fitness_calculation(population[i]), i] for i in range(n)] #first field is fitness value second one is index\n",
        "\n",
        "  # Sorting the matrix based on the first field\n",
        "  matrix.sort(key=lambda x: x[0])\n",
        "\n",
        "  ######################## Survivor Selection (Fitness Based Selection) #####################################\n",
        "  global global_min_fitness_1\n",
        "  global global_min_fitness_2\n",
        "  global global_min_fitness_1_index\n",
        "  global global_min_fitness_2_index\n",
        "\n",
        "  global_min_fitness_1_index = matrix[0][1] #when sort in rascending\n",
        "  global_min_fitness_2_index = matrix[1][1]\n",
        "\n",
        "  global_min_fitness_1 = matrix[0][0]\n",
        "  global_min_fitness_2 = matrix[1][0]\n",
        "  ###########################################################################################################\n",
        "\n",
        "  ranks = list(range(1, n + 1))  # Rank 1 for the worst, n for the best\n",
        "\n",
        "  # Calculate the total sum of ranks\n",
        "  total_ranks = sum(ranks)\n",
        "\n",
        "  # Calculate the probability for each rank\n",
        "  probabilities = [rank / total_ranks for rank in ranks]\n",
        "\n",
        "  # Select two parents based on rank\n",
        "  parent1_index = rank_selection(probabilities)\n",
        "  parent2_index = rank_selection(probabilities)\n",
        "\n",
        "  # Output the indices of the selected parents\n",
        "  parent1_actual_index = matrix[parent1_index][1]\n",
        "  parent2_actual_index = matrix[parent2_index][1]\n",
        "\n",
        "  parents = [population[parent1_actual_index], population[parent2_actual_index]]\n",
        "\n",
        "  return parents #, parents_index\n",
        "\n",
        "  ################################# Survivor replace to parent index #######################################\n",
        "  # global_min_fitness_1_index = parent1_actual_index\n",
        "  # global_min_fitness_2_index = parent2_actual_index\n",
        "  #########################################################################################################\n",
        "\n",
        "def parents_selection(population):\n",
        "  return parents_selection_rank_based(population)"
      ]
    },
    {
      "cell_type": "markdown",
      "metadata": {
        "id": "v7LUubX6M-Id"
      },
      "source": [
        "**3. Crossover (multipoint)**"
      ]
    },
    {
      "cell_type": "code",
      "execution_count": null,
      "metadata": {
        "id": "YtjYIUVoNCRW"
      },
      "outputs": [],
      "source": [
        "def crossover(parent1, parent2):\n",
        "  if random.random() <= crossover_rate:\n",
        "    points = random.sample(range(1, len(parent1)), 2)\n",
        "    point1 = 0\n",
        "    point2 = 0\n",
        "    if points[0] > points[1]:\n",
        "      point1 = points[1]\n",
        "      point2 = points[0]\n",
        "    else:\n",
        "      point1 = points[0]\n",
        "      point2 = points[1]\n",
        "\n",
        "    child1 = parent1[:point1]+parent2[point1:point2]+parent1[point2:]\n",
        "    child2 = parent2[:point1]+parent1[point1:point2]+parent2[point2:]\n",
        "\n",
        "    return child1,child2\n",
        "\n",
        "  else:\n",
        "    return parent1,parent2"
      ]
    },
    {
      "cell_type": "markdown",
      "metadata": {
        "id": "_SPkGhK_NToE"
      },
      "source": [
        "**4. Mutation (Swap)**"
      ]
    },
    {
      "cell_type": "code",
      "execution_count": null,
      "metadata": {
        "id": "p3lIFW5rNcNN"
      },
      "outputs": [],
      "source": [
        "# Swap based Mutation\n",
        "def mutation(individual1, individual2):\n",
        "  # mutated_index1 = random.randint(0, len(individual1) - 1)\n",
        "  # individual1[mutated_index1] = 1 - individual1[mutated_index1] #flip the point\n",
        "  # mutated_index2 = random.randint(0, len(individual2) - 1)\n",
        "  # individual2[mutated_index2] = 1 - individual2[mutated_index2] #flip the point\n",
        "\n",
        "  if random.random() <= mutation_rate:\n",
        "    points = random.sample(range(1, len(individual1)), 2)\n",
        "    point1 = 0\n",
        "    point2 = 0\n",
        "    if points[0] > points[1]:\n",
        "      point1 = points[1]\n",
        "      point2 = points[0]\n",
        "    else:\n",
        "      point1 = points[0]\n",
        "      point2 = points[1]\n",
        "\n",
        "    fitness1 = fitness_calculation(individual1)\n",
        "    fitness2 = fitness_calculation(individual2)\n",
        "\n",
        "    temp_individual1 = individual1\n",
        "    temp = temp_individual1[point1]\n",
        "    temp_individual1[point1] = temp_individual1[point2]\n",
        "    temp_individual1[point2] = temp\n",
        "\n",
        "    if fitness_calculation(temp_individual1) > fitness1:\n",
        "      individual1 = temp_individual1\n",
        "\n",
        "    points = random.sample(range(1, len(individual1)), 2)\n",
        "    point1 = 0\n",
        "    point2 = 0\n",
        "    if points[0] > points[1]:\n",
        "      point1 = points[1]\n",
        "      point2 = points[0]\n",
        "    else:\n",
        "      point1 = points[0]\n",
        "      point2 = points[1]\n",
        "\n",
        "    temp_individual2 = individual2\n",
        "    temp = temp_individual2[point1]\n",
        "    temp_individual2[point1] = temp_individual2[point2]\n",
        "    temp_individual2[point2] = temp\n",
        "\n",
        "    if fitness_calculation(temp_individual2) > fitness2:\n",
        "      individual2 = temp_individual2\n",
        "\n",
        "  return individual1, individual2"
      ]
    },
    {
      "cell_type": "markdown",
      "metadata": {
        "id": "F6_bb_FoCtwk"
      },
      "source": [
        "**5. Survivor Selection (Fitness Based)**"
      ]
    },
    {
      "cell_type": "code",
      "execution_count": null,
      "metadata": {
        "id": "FWYwzxmrC0Hq"
      },
      "outputs": [],
      "source": [
        "def survivor_selection():\n",
        "  return global_min_fitness_1_index, global_min_fitness_2_index"
      ]
    },
    {
      "cell_type": "markdown",
      "metadata": {
        "id": "B3SIjTP0Nkat"
      },
      "source": [
        "**Calculating Distance**"
      ]
    },
    {
      "cell_type": "code",
      "execution_count": null,
      "metadata": {
        "id": "8qNFP41BNokm"
      },
      "outputs": [],
      "source": [
        "def calculate_distance(individual1,individual2):\n",
        "  #humming distance\n",
        "  distance = sum([a ^ b for a, b in zip(individual1, individual2)])\n",
        "\n",
        "  return distance"
      ]
    },
    {
      "cell_type": "markdown",
      "metadata": {
        "id": "D_eMrMPINxXN"
      },
      "source": [
        "**6. Niching Crowding**"
      ]
    },
    {
      "cell_type": "code",
      "execution_count": null,
      "metadata": {
        "id": "mTXBlr4eEZ_r"
      },
      "outputs": [],
      "source": [
        "def clearing_niching(population, sigma_share, niche_capacity):\n",
        "\n",
        "    global population_size\n",
        "\n",
        "    n = population_size\n",
        "    matrix = [[fitness_calculation(population[i]), i] for i in range(n)] #first field is fitness value second one is index\n",
        "    # Sorting the matrix based on the first field in reverse\n",
        "    matrix.sort(key=lambda x: x[0], reverse=True)\n",
        "\n",
        "    sorted_indices = []\n",
        "    sorted_population = []\n",
        "    sorted_fitness = []\n",
        "    for i in range(n):\n",
        "        sorted_indices.append(matrix[i][1])\n",
        "        sorted_population.append(population[matrix[i][1]])\n",
        "        sorted_fitness.append(matrix[i][0])\n",
        "\n",
        "    # Clearing process\n",
        "    for i in range(len(sorted_population)):\n",
        "        if sorted_fitness[i] > 0:  # Skip already cleared individuals\n",
        "            for j in range(i + 1, len(sorted_population)):\n",
        "                if (sorted_fitness[j]>0) and (calculate_distance(sorted_population[i], sorted_population[j]) < sigma_share):\n",
        "                    if niche_capacity > 0:\n",
        "                        niche_capacity -= 1  # Decrease niche capacity\n",
        "                    else:\n",
        "                        sorted_fitness[j] = 0  # Clear the fitness of the individual\n",
        "                        sorted_population[j] = None  # Optionally remove the individual\n",
        "\n",
        "    new_size = 0\n",
        "    # Rebuild the population with cleared individuals\n",
        "    cleared_population = []\n",
        "    for ind in sorted_population:\n",
        "        if ind is not None:\n",
        "            cleared_population.append(ind)\n",
        "            new_size += 1\n",
        "\n",
        "    population_size = new_size\n",
        "\n",
        "    return cleared_population"
      ]
    },
    {
      "cell_type": "markdown",
      "metadata": {
        "id": "DnU38AS5LLmV"
      },
      "source": [
        "**Return Global Result**"
      ]
    },
    {
      "cell_type": "code",
      "execution_count": null,
      "metadata": {
        "id": "-jqXrwPkLQX2"
      },
      "outputs": [],
      "source": [
        "def get_results():\n",
        "  results = global_results_max #+ global_results_less\n",
        "  return results"
      ]
    },
    {
      "cell_type": "markdown",
      "metadata": {
        "id": "9m2RQAzZN9uO"
      },
      "source": [
        "**Genetic Method Controller**"
      ]
    },
    {
      "cell_type": "code",
      "execution_count": null,
      "metadata": {
        "id": "LrW0eoNbOECv"
      },
      "outputs": [],
      "source": [
        "def genetic_algorithm():\n",
        "  global population_size\n",
        "  #initialize population\n",
        "  population = population_generation(chromosome_length,population_size)\n",
        "\n",
        "  for generation in range(generations):\n",
        "\n",
        "    sigma_share = 1.5\n",
        "    niche_capacity = 3\n",
        "\n",
        "    #perfom clearing niching technique\n",
        "    population = clearing_niching(population, sigma_share, niche_capacity)\n",
        "\n",
        "    #select parents\n",
        "    parents = parents_selection(population)\n",
        "    parent_1 = parents[0]\n",
        "    parent_2 = parents[1]\n",
        "\n",
        "    #perform crossover\n",
        "    child1, child2 = crossover(parent_1, parent_2)\n",
        "\n",
        "    #perform mutation\n",
        "    child_p1, child_p2 = mutation(child1, child2)\n",
        "\n",
        "    #population.append(child_p1)\n",
        "    #population.append(child_p2)\n",
        "\n",
        "    #population_size = population_size + 2\n",
        "    index_1, index_2 = survivor_selection()\n",
        "\n",
        "    population[index_1] = child_p1\n",
        "    population[index_2] = child_p2\n",
        "\n"
      ]
    },
    {
      "cell_type": "markdown",
      "metadata": {
        "id": "8WFj8X0tOK4O"
      },
      "source": [
        "**Calling & Printing Result**"
      ]
    },
    {
      "cell_type": "code",
      "execution_count": null,
      "metadata": {
        "id": "mZFnGTRFOPxl",
        "colab": {
          "base_uri": "https://localhost:8080/"
        },
        "outputId": "e75f2885-429b-4a0c-878b-1f140675742f"
      },
      "outputs": [
        {
          "output_type": "stream",
          "name": "stdout",
          "text": [
            "Max Clique Size is :  18\n",
            "found:  18\n",
            "Solutions are\n",
            "Value : 18 -> [18, 19, 20, 21, 22, 23, 24, 25, 26, 27, 28, 29, 30, 31, 32, 33, 34, 35]\n",
            "Value : 18 -> [36, 37, 38, 39, 40, 41, 42, 43, 44, 45, 46, 47, 48, 49, 50, 51, 52, 53]\n",
            "Value : 18 -> [0, 1, 2, 3, 4, 5, 6, 7, 8, 9, 10, 11, 12, 13, 14, 15, 16, 17]\n"
          ]
        }
      ],
      "source": [
        "genetic_algorithm()\n",
        "solutions = get_results()\n",
        "\n",
        "print(\"Max Clique Size is : \",clique_size)\n",
        "print(\"found: \",global_max_found)\n",
        "print(\"Solutions are\")\n",
        "if(solutions): # checking solutions is empty or not\n",
        "   for sol in solutions:\n",
        "      print(f\"Value : {len(sol)} -> {sol}\")"
      ]
    }
  ],
  "metadata": {
    "colab": {
      "provenance": []
    },
    "kernelspec": {
      "display_name": "Python 3",
      "name": "python3"
    },
    "language_info": {
      "name": "python"
    }
  },
  "nbformat": 4,
  "nbformat_minor": 0
}
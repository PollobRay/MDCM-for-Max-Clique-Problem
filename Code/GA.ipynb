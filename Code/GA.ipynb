{
  "nbformat": 4,
  "nbformat_minor": 0,
  "metadata": {
    "colab": {
      "provenance": [],
      "gpuType": "T4"
    },
    "kernelspec": {
      "name": "python3",
      "display_name": "Python 3"
    },
    "language_info": {
      "name": "python"
    },
    "accelerator": "GPU"
  },
  "cells": [
    {
      "cell_type": "markdown",
      "source": [
        "# **Max Clique problem using genetic algorithm.**\n",
        "as per Research paper <br>\n",
        "25 August 2024 <br>\n",
        "copyright: ©Pollob Ray(pollob.cray@gmail.com)"
      ],
      "metadata": {
        "id": "YBbZnG4ZD6wy"
      }
    },
    {
      "cell_type": "markdown",
      "source": [
        "**Import Statements**"
      ],
      "metadata": {
        "id": "RbhP4pLNE-AS"
      }
    },
    {
      "cell_type": "code",
      "source": [
        "import random\n",
        "import numpy as np\n",
        "import re # to extract value from a line"
      ],
      "metadata": {
        "id": "NL8uAuLFFD-7"
      },
      "execution_count": null,
      "outputs": []
    },
    {
      "cell_type": "markdown",
      "source": [
        "**Tuning Parameters**"
      ],
      "metadata": {
        "id": "LLRtZy9JFMQb"
      }
    },
    {
      "cell_type": "code",
      "source": [
        "#For Genetic Problem\n",
        "chromosome_length = None #value will be number of node\n",
        "population_size = 50\n",
        "generations = 1000  #number of iteration\n",
        "threshold = 0.5\n",
        "crossover_rate = 0.8\n",
        "mutation_rate = 0.1"
      ],
      "metadata": {
        "id": "FolnMAgCFQ0C"
      },
      "execution_count": null,
      "outputs": []
    },
    {
      "cell_type": "markdown",
      "source": [
        "**Read File**"
      ],
      "metadata": {
        "id": "oJY0xgXAFogb"
      }
    },
    {
      "cell_type": "code",
      "source": [
        "my_file = open('/content/sample_data/1.clq', 'r') #load file\n",
        "\n",
        "clique_line = my_file.readline()      # read first line\n",
        "node_edge_line = my_file.readline()   # read second line\n",
        "\n",
        "clique_size = int( re.findall(r'\\b\\d+\\b', clique_line)[0]); # extract first number as max clique size\n",
        "node = int( re.findall(r'\\b\\d+\\b', node_edge_line)[0]);     # extract first number as number of node"
      ],
      "metadata": {
        "id": "VspcOkQfFska"
      },
      "execution_count": null,
      "outputs": []
    },
    {
      "cell_type": "markdown",
      "source": [
        "**Set up Global Results**"
      ],
      "metadata": {
        "id": "ypbnzyehYP1K"
      }
    },
    {
      "cell_type": "code",
      "source": [
        "global_max_found = 0\n",
        "global_results_max = list()\n",
        "global_results_less = list()"
      ],
      "metadata": {
        "id": "JAooOrfxYh-R"
      },
      "execution_count": null,
      "outputs": []
    },
    {
      "cell_type": "markdown",
      "source": [
        "**Set up Global min fitness Holders**"
      ],
      "metadata": {
        "id": "gUwLc2iK7j4F"
      }
    },
    {
      "cell_type": "code",
      "source": [
        "global_min_fitness_1 = 99999\n",
        "global_min_fitness_2 = 99999\n",
        "\n",
        "global_min_fitness_1_index = -1\n",
        "global_min_fitness_2_index = -1"
      ],
      "metadata": {
        "id": "CXo5Uh-d73uh"
      },
      "execution_count": null,
      "outputs": []
    },
    {
      "cell_type": "markdown",
      "source": [
        "**Initialization & creation adjacency matrix for graph**"
      ],
      "metadata": {
        "id": "J2HTFMdmHFGr"
      }
    },
    {
      "cell_type": "code",
      "source": [
        "#now Define value of Chromosome size\n",
        "chromosome_length = node #chromosome length is equal to number of nodes in the graph\n",
        "\n",
        "adj_matrix = [[0] * node for _ in range(node)] #create 2D matrix and initialize it with zeros\n",
        "\n",
        "while True:  #initilize adjacency matrix\n",
        "        next_line = my_file.readline().strip()\n",
        "\n",
        "        if not next_line:\n",
        "            break  # Exit loop if no more lines are left\n",
        "\n",
        "        u = int(re.findall(r'\\b\\d+\\b', next_line)[0]) -1  #1 less numbered\n",
        "        v = int(re.findall(r'\\b\\d+\\b', next_line)[1]) -1  #1 less numbered\n",
        "\n",
        "        adj_matrix[u][v] = 1  # 1 indicates there is edge\n",
        "        adj_matrix[v][u] = 1  # 1 indicates there is edge"
      ],
      "metadata": {
        "id": "XB2aC6CvHQvk"
      },
      "execution_count": null,
      "outputs": []
    },
    {
      "cell_type": "markdown",
      "source": [
        "# **Genetic Algorithm Steps**"
      ],
      "metadata": {
        "id": "tyT4RUKqIslk"
      }
    },
    {
      "cell_type": "markdown",
      "source": [
        "**Chomosome Generation**"
      ],
      "metadata": {
        "id": "l0syji9JI4u9"
      }
    },
    {
      "cell_type": "code",
      "source": [
        "def chromosome_generation(length):\n",
        "  #chromosome = [random.choice([0, 1]) for _ in range(length)] #when no threshold\n",
        "  chromosome = list()\n",
        "\n",
        "  for i in range(length):\n",
        "        random_number = random.random()  # Generate a random float between 0 and 1\n",
        "        if random_number >= threshold:\n",
        "            chromosome.append(1)\n",
        "        else:\n",
        "            chromosome.append(0)\n",
        "\n",
        "  return chromosome"
      ],
      "metadata": {
        "id": "Nnbpp_AtJB98"
      },
      "execution_count": null,
      "outputs": []
    },
    {
      "cell_type": "markdown",
      "source": [
        "**1. Population Generation**"
      ],
      "metadata": {
        "id": "TWtm7ijmJFQl"
      }
    },
    {
      "cell_type": "code",
      "source": [
        "def population_generation(chromosome_length,population_size):\n",
        "  population = [chromosome_generation(chromosome_length) for _ in range(population_size)]\n",
        "  return population"
      ],
      "metadata": {
        "id": "sFRzdFCzJI_9"
      },
      "execution_count": null,
      "outputs": []
    },
    {
      "cell_type": "markdown",
      "source": [
        "**a node is connected to a graph or not check**"
      ],
      "metadata": {
        "id": "1nuH4LjYL5sU"
      }
    },
    {
      "cell_type": "code",
      "source": [
        "def is_connected(u, nodes):\n",
        "    return all(adj_matrix[u][v] for v in nodes) #check there 'u' is connected to the all nodes or not"
      ],
      "metadata": {
        "id": "wSQK2DZKMBAl"
      },
      "execution_count": null,
      "outputs": []
    },
    {
      "cell_type": "markdown",
      "source": [
        "**Clique Finding from Graph**"
      ],
      "metadata": {
        "id": "g0uHkC_SMDx8"
      }
    },
    {
      "cell_type": "code",
      "source": [
        "def subset_clique_find(individual):\n",
        "  #clicue problem\n",
        "  #find clique size\n",
        "\n",
        "  ver = [i for i, x in enumerate(individual) if x == 1] #get vertices that perticipated in that chromosome\n",
        "  vertices = sorted(ver)\n",
        "\n",
        "  max_found = 0 #max clique size is found\n",
        "  results = list() # results contains only clique with max_found size\n",
        "\n",
        "  for i in range(len(vertices)):\n",
        "    u = vertices[i]\n",
        "    result = list()\n",
        "    result.append(u)\n",
        "\n",
        "    for j in range(i+1,len(vertices)): # start from i+1 to length-1\n",
        "      #Break the loop\n",
        "      if len(result) + (len(vertices) - j) < max_found: #if there is no chnace to make clique of larger size than already found\n",
        "        result.clear()\n",
        "        break\n",
        "\n",
        "      v = vertices[j]\n",
        "\n",
        "      if not is_connected(v,result):\n",
        "        continue\n",
        "      else:\n",
        "        result.append(v)\n",
        "\n",
        "    #Max clique found value update\n",
        "    if  len(result)>0:\n",
        "      if len(result) > max_found:\n",
        "        max_found = len(result)\n",
        "        results = [result]\n",
        "      #elif len(result) == max_found:\n",
        "      #  if result not in results:\n",
        "      #   results.extend([result])\n",
        "  return results, max_found"
      ],
      "metadata": {
        "id": "tQdkVC4RMLys"
      },
      "execution_count": null,
      "outputs": []
    },
    {
      "cell_type": "code",
      "source": [
        "def subset_clique_find_1(individual):\n",
        "  #clicue problem\n",
        "  #find clique size\n",
        "\n",
        "  ver = [i for i, x in enumerate(individual) if x == 1] #get vertices that perticipated in that chromosome\n",
        "  vertices = sorted(ver)\n",
        "\n",
        "  max_found = 0 #max clique size is found\n",
        "  results = list() # results contains only clique with max_found size\n",
        "  result = list()\n",
        "  for i in range(len(vertices)):\n",
        "    u = vertices[i]\n",
        "    #result = list()\n",
        "    #result.append(u)\n",
        "\n",
        "    #for j in range(i+1,len(vertices)): # start from i+1 to length-1\n",
        "      #Break the loop\n",
        "     # if len(result) + (len(vertices) - j) < max_found: #if there is no chnace to make clique of larger size than already found\n",
        "      #  result.clear()\n",
        "       # break\n",
        "\n",
        "     # v = vertices[j]\n",
        "\n",
        "    if i==0:\n",
        "      result.append(u)\n",
        "    else:\n",
        "      if not is_connected(u,result):\n",
        "        result.clear()\n",
        "      else:\n",
        "        result.append(u)\n",
        "\n",
        "    #Max clique found value update\n",
        "  if  len(result)>0:\n",
        "    if len(result) > max_found:\n",
        "      max_found = len(result)\n",
        "      results = [result]\n",
        "      #elif len(result) == max_found:\n",
        "      #  if result not in results:\n",
        "      #   results.extend([result])\n",
        "  return results, max_found"
      ],
      "metadata": {
        "id": "aNt8Hx7TaVtB"
      },
      "execution_count": null,
      "outputs": []
    },
    {
      "cell_type": "markdown",
      "source": [
        "**Fitness Value calculation**"
      ],
      "metadata": {
        "id": "t8-h0vVhMdiV"
      }
    },
    {
      "cell_type": "code",
      "source": [
        "def fitness_calculation(individual):\n",
        "\n",
        "  global global_max_found\n",
        "  global global_results_less\n",
        "  global global_results_max\n",
        "\n",
        "  results, max_found = subset_clique_find_1(individual)\n",
        "\n",
        "  if max_found > global_max_found:\n",
        "    global_max_found = max_found\n",
        "    global_results_less = global_results_max\n",
        "    global_results_max = results\n",
        "\n",
        "\n",
        "  return max_found"
      ],
      "metadata": {
        "id": "ujVx3QZhMl4_"
      },
      "execution_count": null,
      "outputs": []
    },
    {
      "cell_type": "markdown",
      "source": [
        "**2. Parents Selection**"
      ],
      "metadata": {
        "id": "65n0U48YMyTm"
      }
    },
    {
      "cell_type": "code",
      "source": [
        "# Rank Based Selection\n",
        "def rank_selection(probabilities):\n",
        "    r = random.random()\n",
        "    cumulative_sum = 0\n",
        "    for i, p in enumerate(probabilities):\n",
        "        cumulative_sum += p\n",
        "        if r <= cumulative_sum:\n",
        "            return i\n",
        "\n",
        "def parents_selection_rank_based(population):\n",
        "  #define rank based selection\n",
        "  n = population_size\n",
        "  matrix = [[fitness_calculation(population[i]), i] for i in range(n)] #first field is fitness value second one is index\n",
        "\n",
        "  # Sorting the matrix based on the first field\n",
        "  matrix.sort(key=lambda x: x[0])\n",
        "\n",
        "  ######################## Survivor Selection (Fitness Based Selection) #####################################\n",
        "  global global_min_fitness_1\n",
        "  global global_min_fitness_2\n",
        "  global global_min_fitness_1_index\n",
        "  global global_min_fitness_2_index\n",
        "\n",
        "  global_min_fitness_1_index = matrix[0][1] #when sort in ascending\n",
        "  global_min_fitness_2_index = matrix[1][1]\n",
        "\n",
        "  global_min_fitness_1 = matrix[0][0]\n",
        "  global_min_fitness_2 = matrix[1][0]\n",
        "  ###########################################################################################################\n",
        "\n",
        "  ranks = list(range(1, n + 1))  # Rank 1 for the worst, n for the best\n",
        "\n",
        "  # Calculate the total sum of ranks\n",
        "  total_ranks = sum(ranks)\n",
        "\n",
        "  # Calculate the probability for each rank\n",
        "  probabilities = [rank / total_ranks for rank in ranks]\n",
        "\n",
        "  # Select two parents based on rank\n",
        "  parent1_index = rank_selection(probabilities)\n",
        "  parent2_index = rank_selection(probabilities)\n",
        "\n",
        "  # Output the indices of the selected parents\n",
        "  parent1_actual_index = matrix[parent1_index][1]\n",
        "  parent2_actual_index = matrix[parent2_index][1]\n",
        "\n",
        "  parents = [population[parent1_actual_index], population[parent2_actual_index]]\n",
        "\n",
        "  return parents #, parents_index\n",
        "\n",
        "def parents_selection(population):\n",
        "  return parents_selection_rank_based(population)"
      ],
      "metadata": {
        "id": "12tLD9kmM1Qu"
      },
      "execution_count": null,
      "outputs": []
    },
    {
      "cell_type": "markdown",
      "source": [
        "**3. Crossover (multipoint)**"
      ],
      "metadata": {
        "id": "v7LUubX6M-Id"
      }
    },
    {
      "cell_type": "code",
      "source": [
        "def crossover(parent1, parent2):\n",
        "  if random.random() <= crossover_rate:\n",
        "    points = random.sample(range(1, len(parent1)), 2)\n",
        "    point1 = 0\n",
        "    point2 = 0\n",
        "    if points[0] > points[1]:\n",
        "      point1 = points[1]\n",
        "      point2 = points[0]\n",
        "    else:\n",
        "      point1 = points[0]\n",
        "      point2 = points[1]\n",
        "\n",
        "    child1 = parent1[:point1]+parent2[point1:point2]+parent1[point2:]\n",
        "    child2 = parent2[:point1]+parent1[point1:point2]+parent2[point2:]\n",
        "\n",
        "    return child1,child2\n",
        "\n",
        "  else:\n",
        "    return parent1,parent2"
      ],
      "metadata": {
        "id": "YtjYIUVoNCRW"
      },
      "execution_count": null,
      "outputs": []
    },
    {
      "cell_type": "markdown",
      "source": [
        "**4. Mutation (Swap)**"
      ],
      "metadata": {
        "id": "_SPkGhK_NToE"
      }
    },
    {
      "cell_type": "code",
      "source": [
        "# Swap based Mutation\n",
        "def mutation(individual1, individual2):\n",
        "  # mutated_index1 = random.randint(0, len(individual1) - 1)\n",
        "  # individual1[mutated_index1] = 1 - individual1[mutated_index1] #flip the point\n",
        "  # mutated_index2 = random.randint(0, len(individual2) - 1)\n",
        "  # individual2[mutated_index2] = 1 - individual2[mutated_index2] #flip the point\n",
        "\n",
        "  if random.random() <= mutation_rate:\n",
        "    points = random.sample(range(1, len(individual1)), 2)\n",
        "    point1 = 0\n",
        "    point2 = 0\n",
        "    if points[0] > points[1]:\n",
        "      point1 = points[1]\n",
        "      point2 = points[0]\n",
        "    else:\n",
        "      point1 = points[0]\n",
        "      point2 = points[1]\n",
        "\n",
        "    fitness1 = fitness_calculation(individual1)\n",
        "    fitness2 = fitness_calculation(individual2)\n",
        "\n",
        "    temp_individual1 = individual1\n",
        "    temp = temp_individual1[point1]\n",
        "    temp_individual1[point1] = temp_individual1[point2]\n",
        "    temp_individual1[point2] = temp\n",
        "\n",
        "    if fitness_calculation(temp_individual1) > fitness1:\n",
        "      individual1 = temp_individual1\n",
        "\n",
        "    points = random.sample(range(1, len(individual1)), 2)\n",
        "    point1 = 0\n",
        "    point2 = 0\n",
        "    if points[0] > points[1]:\n",
        "      point1 = points[1]\n",
        "      point2 = points[0]\n",
        "    else:\n",
        "      point1 = points[0]\n",
        "      point2 = points[1]\n",
        "\n",
        "    temp_individual2 = individual2\n",
        "    temp = temp_individual2[point1]\n",
        "    temp_individual2[point1] = temp_individual2[point2]\n",
        "    temp_individual2[point2] = temp\n",
        "\n",
        "    if fitness_calculation(temp_individual2) > fitness2:\n",
        "      individual2 = temp_individual2\n",
        "\n",
        "  return individual1, individual2"
      ],
      "metadata": {
        "id": "p3lIFW5rNcNN"
      },
      "execution_count": null,
      "outputs": []
    },
    {
      "cell_type": "markdown",
      "source": [
        "**5. Survivor Selection (Fitness Based)**"
      ],
      "metadata": {
        "id": "F6_bb_FoCtwk"
      }
    },
    {
      "cell_type": "code",
      "source": [
        "def survivor_selection():\n",
        "  return global_min_fitness_1_index, global_min_fitness_2_index"
      ],
      "metadata": {
        "id": "FWYwzxmrC0Hq"
      },
      "execution_count": null,
      "outputs": []
    },
    {
      "cell_type": "markdown",
      "source": [
        "**Calculating Distance**"
      ],
      "metadata": {
        "id": "B3SIjTP0Nkat"
      }
    },
    {
      "cell_type": "code",
      "source": [
        "def calculate_distance(individual1,individual2):\n",
        "  #humming distance\n",
        "  distance = sum([a ^ b for a, b in zip(individual1, individual2)])\n",
        "\n",
        "  return distance"
      ],
      "metadata": {
        "id": "8qNFP41BNokm"
      },
      "execution_count": null,
      "outputs": []
    },
    {
      "cell_type": "markdown",
      "source": [
        "**6. Replacement**"
      ],
      "metadata": {
        "id": "D_eMrMPINxXN"
      }
    },
    {
      "cell_type": "code",
      "source": [
        "def replacement(population, cp1, cp2):\n",
        "  index_1, index_2 = survivor_selection()\n",
        "  population[index_1] = cp1 #p1\n",
        "  population[index_2] = cp2 #p2\n",
        "\n",
        "  return population"
      ],
      "metadata": {
        "id": "jXG0rN8OKkT3"
      },
      "execution_count": null,
      "outputs": []
    },
    {
      "cell_type": "markdown",
      "source": [
        "**Return Global Result**"
      ],
      "metadata": {
        "id": "DnU38AS5LLmV"
      }
    },
    {
      "cell_type": "code",
      "source": [
        "def get_results():\n",
        "  results = global_results_max #+ global_results_less\n",
        "  return results"
      ],
      "metadata": {
        "id": "-jqXrwPkLQX2"
      },
      "execution_count": null,
      "outputs": []
    },
    {
      "cell_type": "markdown",
      "source": [
        "**Genetic Method Controller**"
      ],
      "metadata": {
        "id": "9m2RQAzZN9uO"
      }
    },
    {
      "cell_type": "code",
      "source": [
        "def genetic_algorithm():\n",
        "  #initialize population\n",
        "  population = population_generation(chromosome_length,population_size)\n",
        "\n",
        "  for generation in range(generations):\n",
        "    #select parents\n",
        "    parents = parents_selection(population)\n",
        "    parent_1 = parents[0]\n",
        "    parent_2 = parents[1]\n",
        "\n",
        "    #perform crossover\n",
        "    child1, child2 = crossover(parent_1, parent_2)\n",
        "\n",
        "    #perform mutation\n",
        "    child_p1, child_p2 = mutation(child1, child2)\n",
        "\n",
        "    #perfom deterministic crowding niching technique\n",
        "    population = replacement(population, child_p1, child_p2)"
      ],
      "metadata": {
        "id": "LrW0eoNbOECv"
      },
      "execution_count": null,
      "outputs": []
    },
    {
      "cell_type": "markdown",
      "source": [
        "**Calling & Printing Result**"
      ],
      "metadata": {
        "id": "8WFj8X0tOK4O"
      }
    },
    {
      "cell_type": "code",
      "source": [
        "genetic_algorithm()\n",
        "solutions = get_results()\n",
        "\n",
        "print(\"Max Clique Size is : \",clique_size)\n",
        "print(\"found: \",global_max_found)\n",
        "print(\"Solutions are\")\n",
        "if(solutions): # checking solutions is empty or not\n",
        "   for sol in solutions:\n",
        "      print(f\"Value : {len(sol)} -> {sol}\")\n",
        "\n",
        "\n",
        "\n"
      ],
      "metadata": {
        "id": "mZFnGTRFOPxl"
      },
      "execution_count": null,
      "outputs": []
    }
  ]
}